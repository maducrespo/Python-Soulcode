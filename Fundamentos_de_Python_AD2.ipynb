{
  "nbformat": 4,
  "nbformat_minor": 0,
  "metadata": {
    "colab": {
      "provenance": [],
      "collapsed_sections": [
        "LLneM1KPpmgg",
        "gaEQLpWEsvPA",
        "0qtiNoXYuhj6",
        "VyxhJFKbvgOR",
        "qLPA5csiy2XM",
        "jK5shCDWy_xy",
        "uUvNC7rpzGA3",
        "YQlW6tBdze_z",
        "gXYmPf220G8l",
        "VWgE-yDD0kB4",
        "zazuxZ5t21RP",
        "Qf2FD9sTpPz7"
      ],
      "include_colab_link": true
    },
    "kernelspec": {
      "name": "python3",
      "display_name": "Python 3"
    },
    "language_info": {
      "name": "python"
    }
  },
  "cells": [
    {
      "cell_type": "markdown",
      "metadata": {
        "id": "view-in-github",
        "colab_type": "text"
      },
      "source": [
        "<a href=\"https://colab.research.google.com/github/maducrespo/Python-Soulcode/blob/main/Fundamentos_de_Python_AD2.ipynb\" target=\"_parent\"><img src=\"https://colab.research.google.com/assets/colab-badge.svg\" alt=\"Open In Colab\"/></a>"
      ]
    },
    {
      "cell_type": "markdown",
      "source": [
        "# ▶ **FUNDAMENTOS DE PYTHON**\n",
        "\n",
        "Escola: SoulCode Academy\n",
        "\n",
        "Curso: Bootcamp Analista de Dados - Martech - AD2\n",
        "\n",
        "Período: Semana 4\n",
        "\n",
        "Professores: Franciane Rodrigues e Douglas Ribeiro\n",
        "\n",
        "Aluna: Maria Eduarda Crespo\n",
        "\n",
        "\n"
      ],
      "metadata": {
        "id": "xovnLVj5mcW9"
      }
    },
    {
      "cell_type": "markdown",
      "source": [
        "* **Lógica de programação:** é um conceito teórico que se refere à forma de pensar e abordar problemas de programação.\n",
        "\n",
        "* **Algoritmo:** é uma descrição abstrata de um processo ou solução que poderá ser executado por um computador.\n",
        "\n",
        "* **Script:** é um conjunto de instruções ou comandos escritos em uma linguagem de programação específica. Geralmente, os scripts são usados para automatizar tarefas ou para definir o comportamento de um programa ou sistema. Eles são frequentemente executados interpretando linha por linha, em vez de serem compilados em um programa executável separado.\n",
        "\n",
        "* **Programa:** é um conjunto de instruções escritas em uma linguagem de programação específica, organizadas de forma lógica, para realizar uma tarefa ou resolver um problema específico. Ao contrário de um script, um programa é compilado ou interpretado antes da execução, resultando em um arquivo executável que pode ser executado diretamente em um sistema operacional."
      ],
      "metadata": {
        "id": "Ry3OM8ohngBD"
      }
    },
    {
      "cell_type": "markdown",
      "source": [
        "## **Comentários e tipos básicos de dados:**"
      ],
      "metadata": {
        "id": "LLneM1KPpmgg"
      }
    },
    {
      "cell_type": "code",
      "source": [
        "print('Olá, mundo!')   #usando aspas simples\n",
        "print(\"Hello, World!\") #usando aspas duplas"
      ],
      "metadata": {
        "colab": {
          "base_uri": "https://localhost:8080/"
        },
        "id": "gIDOStx1psH4",
        "outputId": "53e80c62-d09c-42d0-ed9a-bea95f0a3876"
      },
      "execution_count": null,
      "outputs": [
        {
          "output_type": "stream",
          "name": "stdout",
          "text": [
            "Olá, mundo!\n",
            "Hello, World!\n"
          ]
        }
      ]
    },
    {
      "cell_type": "code",
      "source": [
        "# Isto é um comentário"
      ],
      "metadata": {
        "id": "wWjp4nB-qFEB"
      },
      "execution_count": null,
      "outputs": []
    },
    {
      "cell_type": "code",
      "source": [
        "'''\n",
        "Isso\n",
        "é\n",
        "um\n",
        "comentário\n",
        "grande\n",
        "'''"
      ],
      "metadata": {
        "colab": {
          "base_uri": "https://localhost:8080/",
          "height": 36
        },
        "id": "Hq-lDRwMqSpY",
        "outputId": "6876b482-eb01-4d7b-9fb2-e049cbcbe578"
      },
      "execution_count": null,
      "outputs": [
        {
          "output_type": "execute_result",
          "data": {
            "text/plain": [
              "'\\nIsso\\né\\num\\ncomentário\\ngrande\\n'"
            ],
            "application/vnd.google.colaboratory.intrinsic+json": {
              "type": "string"
            }
          },
          "metadata": {},
          "execution_count": 78
        }
      ]
    },
    {
      "cell_type": "code",
      "source": [
        "\"\"\"\n",
        "Isto\n",
        "é outro\n",
        "comentário\n",
        "\"\"\""
      ],
      "metadata": {
        "colab": {
          "base_uri": "https://localhost:8080/",
          "height": 36
        },
        "id": "C9hvmq2JqUaw",
        "outputId": "374010b0-e69e-4746-b6d5-105e93c132af"
      },
      "execution_count": null,
      "outputs": [
        {
          "output_type": "execute_result",
          "data": {
            "text/plain": [
              "'\\nIsto\\né outro\\ncomentário\\n'"
            ],
            "application/vnd.google.colaboratory.intrinsic+json": {
              "type": "string"
            }
          },
          "metadata": {},
          "execution_count": 79
        }
      ]
    },
    {
      "cell_type": "code",
      "source": [
        "#Tipos de dados"
      ],
      "metadata": {
        "id": "4RpSwfi2qWtV"
      },
      "execution_count": null,
      "outputs": []
    },
    {
      "cell_type": "markdown",
      "source": [
        "![tiposdedados.png](data:image/png;base64,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)"
      ],
      "metadata": {
        "id": "sTUqx_lQqk_x"
      }
    },
    {
      "cell_type": "code",
      "source": [
        "# Estamos escrevendo nossos dados pessoais\n",
        "print(23)         # int\n",
        "print(1.68)       # float\n",
        "print('Maria')    # str escrita com aspas simplas\n",
        "print(\"Eduarda\")  # str escrita com aspas duplas\n",
        "print(False)      # bool"
      ],
      "metadata": {
        "id": "wWO5v9iGqtCS"
      },
      "execution_count": null,
      "outputs": []
    },
    {
      "cell_type": "markdown",
      "source": [
        "**RESUMO**\n",
        "\n",
        "*   Os **comentários** são como notas que você deixa para que você ou outra pessoa possa ler e ajuda documentar o seu código\n",
        "*   **Comando print:** é uma função de saída utilizada em várias linguagens de\n",
        "programação para exibir mensagens ou valores na tela do computador.\n",
        "*   **\\n**: usado para criar quebras de linha em um texto\n",
        "*   **Tipos de dados no Python mais usados são int, float, str, bool**\n",
        "*   **int e float:** dados quantitativos\n",
        "*   **str:** dados categóricos"
      ],
      "metadata": {
        "id": "i-0nD1DorvRp"
      }
    },
    {
      "cell_type": "markdown",
      "source": [
        "## **Variáveis**"
      ],
      "metadata": {
        "id": "gaEQLpWEsvPA"
      }
    },
    {
      "cell_type": "code",
      "source": [
        "# Estamos escrevendo nossos dados pessoais\n",
        "print(23)                # int\n",
        "print(1.68)              # float\n",
        "print('Maria')           # str escrita com aspas simplas\n",
        "print(\"Eduarda\")         # str escrita com aspas duplas\n",
        "print(False)             # bool"
      ],
      "metadata": {
        "colab": {
          "base_uri": "https://localhost:8080/"
        },
        "id": "GXDSfYdes6U_",
        "outputId": "6fcbaf7e-cc3c-421b-cf65-9751f258cd9c"
      },
      "execution_count": null,
      "outputs": [
        {
          "output_type": "stream",
          "name": "stdout",
          "text": [
            "23\n",
            "1.68\n",
            "Maria\n",
            "Eduarda\n",
            "False\n"
          ]
        }
      ]
    },
    {
      "cell_type": "code",
      "source": [
        "# Declarando as variáveis\n",
        "idade = 23\n",
        "altura = 1.68\n",
        "nome = 'Maria'\n",
        "sobrenome = \"Eduarda\"\n",
        "filhos = False"
      ],
      "metadata": {
        "id": "X0GtZp4OtEo-"
      },
      "execution_count": null,
      "outputs": []
    },
    {
      "cell_type": "code",
      "source": [
        "# Imprimir na tela usando o comando print\n",
        "print(idade)\n",
        "print(altura)\n",
        "print(nome)\n",
        "print(sobrenome)\n",
        "print(filhos)"
      ],
      "metadata": {
        "colab": {
          "base_uri": "https://localhost:8080/"
        },
        "id": "4Vad2LastJb3",
        "outputId": "5a663c30-decb-495f-f000-fe5999e5f644"
      },
      "execution_count": null,
      "outputs": [
        {
          "output_type": "stream",
          "name": "stdout",
          "text": [
            "23\n",
            "1.68\n",
            "Maria\n",
            "Eduarda\n",
            "False\n"
          ]
        }
      ]
    },
    {
      "cell_type": "code",
      "source": [
        "# Imprimir na tela usando somente a variável\n",
        "idade\n",
        "altura\n",
        "nome\n",
        "sobrenome\n",
        "filhos"
      ],
      "metadata": {
        "colab": {
          "base_uri": "https://localhost:8080/"
        },
        "id": "jAwbEaRHtObE",
        "outputId": "b623a081-43db-43c1-a93a-23e3919ccdf8"
      },
      "execution_count": null,
      "outputs": [
        {
          "output_type": "execute_result",
          "data": {
            "text/plain": [
              "False"
            ]
          },
          "metadata": {},
          "execution_count": 84
        }
      ]
    },
    {
      "cell_type": "code",
      "source": [
        "# Impressão geral na tela de todas as variáveis declaradas\n",
        "print(idade, altura, nome, sobrenome, filhos)"
      ],
      "metadata": {
        "colab": {
          "base_uri": "https://localhost:8080/"
        },
        "id": "JlCfyQsntT3j",
        "outputId": "e256d733-0a0d-4251-ec87-fec8f83b4c5e"
      },
      "execution_count": null,
      "outputs": [
        {
          "output_type": "stream",
          "name": "stdout",
          "text": [
            "23 1.68 Maria Eduarda False\n"
          ]
        }
      ]
    },
    {
      "cell_type": "code",
      "source": [
        "# Comando type serve para checarmos o tipo de dado que a variável está declarada\n",
        "type(idade)"
      ],
      "metadata": {
        "colab": {
          "base_uri": "https://localhost:8080/"
        },
        "id": "XV1K8HWLtU6f",
        "outputId": "4324d6ae-aca1-46a2-d5d2-641a01175750"
      },
      "execution_count": null,
      "outputs": [
        {
          "output_type": "execute_result",
          "data": {
            "text/plain": [
              "int"
            ]
          },
          "metadata": {},
          "execution_count": 86
        }
      ]
    },
    {
      "cell_type": "code",
      "source": [
        "# Checando o tipo de variável usando os comandos print e type juntos\n",
        "print(type(idade))\n",
        "print(type(altura))\n",
        "print(type(nome))\n",
        "print(type(sobrenome))\n",
        "print(type(filhos))"
      ],
      "metadata": {
        "colab": {
          "base_uri": "https://localhost:8080/"
        },
        "id": "oLloLi8mtZTJ",
        "outputId": "3114974f-1f77-45e9-f99c-33ebf886392e"
      },
      "execution_count": null,
      "outputs": [
        {
          "output_type": "stream",
          "name": "stdout",
          "text": [
            "<class 'int'>\n",
            "<class 'float'>\n",
            "<class 'str'>\n",
            "<class 'str'>\n",
            "<class 'bool'>\n"
          ]
        }
      ]
    },
    {
      "cell_type": "code",
      "source": [
        "# Atenção: o Python é sensível as letras maíusculas e minúsculas  (case sensitive)\n",
        "# print(Nome)"
      ],
      "metadata": {
        "id": "GGyzKswbtXXW"
      },
      "execution_count": null,
      "outputs": []
    },
    {
      "cell_type": "code",
      "source": [
        "# Armazenando strings e número\n",
        "nome_completo = 'Maria Eduarda'\n",
        "numero_favorito = '12'"
      ],
      "metadata": {
        "id": "OtInE3RAtjOi"
      },
      "execution_count": null,
      "outputs": []
    },
    {
      "cell_type": "code",
      "source": [
        "# Checando a variável numero_favorito\n",
        "print(type(numero_favorito))"
      ],
      "metadata": {
        "colab": {
          "base_uri": "https://localhost:8080/"
        },
        "id": "0dvYyzsXtn-v",
        "outputId": "8881d579-2c8e-438b-ecd7-b58c32208605"
      },
      "execution_count": null,
      "outputs": [
        {
          "output_type": "stream",
          "name": "stdout",
          "text": [
            "<class 'str'>\n"
          ]
        }
      ]
    },
    {
      "cell_type": "code",
      "source": [
        "# Se o número estiver entre aspas, ele se transforma em uma string\n",
        "print(nome_completo, numero_favorito)"
      ],
      "metadata": {
        "colab": {
          "base_uri": "https://localhost:8080/"
        },
        "id": "czZogU3Ctwtr",
        "outputId": "5d9a5f23-4b27-41d7-cd9b-dc60ebbfb772"
      },
      "execution_count": null,
      "outputs": [
        {
          "output_type": "stream",
          "name": "stdout",
          "text": [
            "Maria Eduarda 12\n"
          ]
        }
      ]
    },
    {
      "cell_type": "code",
      "source": [
        "# Primeiro nome do nosso código\n",
        "nome"
      ],
      "metadata": {
        "colab": {
          "base_uri": "https://localhost:8080/"
        },
        "id": "3sOwxEIbtzUB",
        "outputId": "10c35b68-8010-4983-d14b-16c7fb359f7c"
      },
      "execution_count": null,
      "outputs": [
        {
          "output_type": "execute_result",
          "data": {
            "text/plain": [
              "'Maria'"
            ],
            "application/vnd.google.colaboratory.intrinsic+json": {
              "type": "string"
            }
          },
          "metadata": {},
          "execution_count": 91
        }
      ]
    },
    {
      "cell_type": "code",
      "source": [
        "# Renomeação da variável\n",
        "nome = 'Ma'"
      ],
      "metadata": {
        "id": "sUDJCsr2t2MB"
      },
      "execution_count": null,
      "outputs": []
    },
    {
      "cell_type": "code",
      "source": [
        "#Atualização de variável \"nome\"\n",
        "#sempre a última alteração será a válida\n",
        "nome"
      ],
      "metadata": {
        "colab": {
          "base_uri": "https://localhost:8080/"
        },
        "id": "I9N7kOWyt-jI",
        "outputId": "797ac4f1-777a-42cb-b549-59df39c2f604"
      },
      "execution_count": null,
      "outputs": [
        {
          "output_type": "execute_result",
          "data": {
            "text/plain": [
              "'Ma'"
            ],
            "application/vnd.google.colaboratory.intrinsic+json": {
              "type": "string"
            }
          },
          "metadata": {},
          "execution_count": 93
        }
      ]
    },
    {
      "cell_type": "markdown",
      "source": [
        "**Resumo**\n",
        "*  **Variáveis** permitem salvar valores na memória usando um nome que atribuímos\n",
        "* Declaramos um nome no lado esquerdo do operador igual (“=”), e no lado direito, atribuir o valor que queremos salvar para usar mais tarde.\n",
        "* Como ler: Declaramos a variável \"a\" ao valor do \"2\" do tipo int\n",
        "* a = 2\n",
        "\n",
        "* Como ler: Declaramos a variável \"b\" ao valor do \"10.953\" do tipo float\n",
        "* b = 10.953\n",
        "\n",
        "* Como ler: A variável \"a\" recebe valor 2 do tipo int\n",
        "* a = 2\n",
        "\n",
        "* Como ler: A variável \"b\" recebe valor 10.953 do tipo float\n",
        "* b = 10.953\n",
        "\n",
        "* É possível usar os dois comandos print e type juntos\n",
        "* Atenção: Número pode ser string\n",
        "\n",
        "**Regras para nomes de variáveis**\n",
        "* Deve começar com uma letra (maíuscula ou minúscula) ou subcrito(_).\n",
        "* Nunca pode começar com um número.\n",
        "* Pode conter letras maiúsculas, minúsculas, números e subscrito.\n",
        "* Não pode-se utilizar como parte do nome de uma variável:\n",
        "{ ( + - * / \\ ; . , ?\n",
        "* Letras maiúsculas e minúsculas são diferentes:\n",
        "casa = 4\n",
        "Casa = 4"
      ],
      "metadata": {
        "id": "FBzBkQrIuJpH"
      }
    },
    {
      "cell_type": "markdown",
      "source": [
        "`Conversão de variáveis`\n",
        "\n",
        "\n",
        "\n"
      ],
      "metadata": {
        "id": "PWbKNRev7f2k"
      }
    },
    {
      "cell_type": "code",
      "source": [
        "# Conversão de int para float\n",
        "\n",
        "num_int = 10\n",
        "num_float = float(num_int)\n",
        "\n",
        "# Checando a conversão\n",
        "\n",
        "print(type(num_int), type(num_float))\n",
        "print(num_float)\n"
      ],
      "metadata": {
        "id": "p83ZM-w87wEk"
      },
      "execution_count": null,
      "outputs": []
    },
    {
      "cell_type": "code",
      "source": [
        "# Conversão de int para string\n",
        "\n",
        "num_int = 10\n",
        "num_str = '10'\n",
        "\n",
        "# Checando a conversão\n",
        "\n",
        "print(type(num_int), type(num_str))\n",
        "print(num_str)"
      ],
      "metadata": {
        "id": "dMa8XFDa8NhI"
      },
      "execution_count": null,
      "outputs": []
    },
    {
      "cell_type": "code",
      "source": [
        "\n",
        "# Conversão de float para int\n",
        "\n",
        "num_float = 10.5\n",
        "num_int = int(num_float)\n",
        "\n",
        "# Checando a conversão\n",
        "\n",
        "print(type(num_float), type(num_int))\n",
        "print(num_int)"
      ],
      "metadata": {
        "id": "Mw8qd0WJ8Kzi"
      },
      "execution_count": null,
      "outputs": []
    },
    {
      "cell_type": "code",
      "source": [
        "\n",
        "# Conversão de float para str\n",
        "\n",
        "num_float = 124.5\n",
        "num_str = str('124.5')\n",
        "\n",
        "# Checando a conversão\n",
        "\n",
        "print(type(num_float), type(num_str))\n",
        "print(num_str)"
      ],
      "metadata": {
        "id": "qCPh1gAF8I44",
        "colab": {
          "base_uri": "https://localhost:8080/"
        },
        "outputId": "4202f0b6-b5c8-41eb-81e4-19622f3d3bcc"
      },
      "execution_count": 1,
      "outputs": [
        {
          "output_type": "stream",
          "name": "stdout",
          "text": [
            "<class 'float'> <class 'str'>\n",
            "124.5\n"
          ]
        }
      ]
    },
    {
      "cell_type": "code",
      "source": [
        "# Falha no sistema, não pode converter numero\n",
        "#'float' em 'string' para 'int'\n",
        "# num_str = '10.5'\n",
        "# num_int = int(num_str)\n",
        "\n",
        "\n",
        "\n",
        "#Conversão de str para int\n",
        "\n",
        "num_str = '950'\n",
        "num_int = int(num_str)"
      ],
      "metadata": {
        "id": "gb81U_wT7-5C"
      },
      "execution_count": 2,
      "outputs": []
    },
    {
      "cell_type": "code",
      "source": [
        "# Checando a conversão\n",
        "\n",
        "print(type(num_str), type(num_int))\n",
        "print(num_int)"
      ],
      "metadata": {
        "id": "aKGkoz7d8BVS"
      },
      "execution_count": null,
      "outputs": []
    },
    {
      "cell_type": "code",
      "source": [
        " # Conversão de str para float\n",
        "\n",
        "num_str = '124.5'\n",
        "num_float = float(124.5)"
      ],
      "metadata": {
        "id": "7WlCMqCD8CCU"
      },
      "execution_count": 3,
      "outputs": []
    },
    {
      "cell_type": "code",
      "source": [
        "# Checando a conversão\n",
        "\n",
        "print(type(num_str), type(num_float))\n",
        "print(num_float)"
      ],
      "metadata": {
        "id": "c6gbCvPI8Dwp",
        "colab": {
          "base_uri": "https://localhost:8080/"
        },
        "outputId": "582159d8-7192-4fd0-db72-c749513eabb2"
      },
      "execution_count": 4,
      "outputs": [
        {
          "output_type": "stream",
          "name": "stdout",
          "text": [
            "<class 'str'> <class 'float'>\n",
            "124.5\n"
          ]
        }
      ]
    },
    {
      "cell_type": "markdown",
      "source": [
        "\n",
        "## **Operadores Matemáticos**"
      ],
      "metadata": {
        "id": "knV0Anza9p6t"
      }
    },
    {
      "cell_type": "markdown",
      "source": [
        "`Os operadores matemáticos básicos, tais como: adição, subtração, multiplicação, divisão, exponenciação e radiação podem ser feitos dentro do python.`"
      ],
      "metadata": {
        "id": "qQ7EFBVe903K"
      }
    },
    {
      "cell_type": "code",
      "source": [
        "# Adição\n",
        "n1 = 45.9\n",
        "n2 = 10.5\n",
        "soma = n1 + n2\n",
        "\n",
        "#modos de apresentação\n",
        "print(soma)\n",
        "print('A soma é:', soma)\n",
        "print(f\"A soma dos números é {soma:.2f}\")\n",
        "print(n1 + n2)\n",
        "n1+n2"
      ],
      "metadata": {
        "colab": {
          "base_uri": "https://localhost:8080/"
        },
        "id": "Ay5n8q17--jC",
        "outputId": "147000f0-04e7-4f1f-9d50-a71440b4c12f"
      },
      "execution_count": 5,
      "outputs": [
        {
          "output_type": "stream",
          "name": "stdout",
          "text": [
            "56.4\n",
            "A soma é: 56.4\n",
            "A soma dos números é 56.40\n",
            "56.4\n"
          ]
        },
        {
          "output_type": "execute_result",
          "data": {
            "text/plain": [
              "56.4"
            ]
          },
          "metadata": {},
          "execution_count": 5
        }
      ]
    },
    {
      "cell_type": "code",
      "source": [
        "# Subtração\n",
        "a1 = 190.4\n",
        "a2 = 90.4\n",
        "sub = a1 - a2\n",
        "\n",
        "#modos de apresentação\n",
        "print(sub)\n",
        "print('A subtração é:', round(sub, 2))\n",
        "print(f\"A subtração dos números é {sub:.2f}\")\n",
        "print(a1 - a2)\n",
        "a1-a2"
      ],
      "metadata": {
        "colab": {
          "base_uri": "https://localhost:8080/"
        },
        "id": "EQimL2JiBDBK",
        "outputId": "debada1f-68c5-43c8-bc00-8984aa86560d"
      },
      "execution_count": 6,
      "outputs": [
        {
          "output_type": "stream",
          "name": "stdout",
          "text": [
            "100.0\n",
            "A subtração é: 100.0\n",
            "A subtração dos números é 100.00\n",
            "100.0\n"
          ]
        },
        {
          "output_type": "execute_result",
          "data": {
            "text/plain": [
              "100.0"
            ]
          },
          "metadata": {},
          "execution_count": 6
        }
      ]
    },
    {
      "cell_type": "code",
      "source": [
        "# Multiplicação\n",
        "b1 = 995.54\n",
        "b2 = 21.99\n",
        "mult = b1 * b2\n",
        "\n",
        "#modos de apresentação\n",
        "print(mult)\n",
        "print('A multiplicação é:', round(mult, 2))\n",
        "print(f\"A multiplicação dos números é {mult:.2f}\")\n",
        "print(b1 * b2)\n",
        "b1 * b2"
      ],
      "metadata": {
        "colab": {
          "base_uri": "https://localhost:8080/"
        },
        "id": "UxhlQRymBGwQ",
        "outputId": "b55f508b-a21c-49ff-dd77-e427a8550e57"
      },
      "execution_count": 7,
      "outputs": [
        {
          "output_type": "stream",
          "name": "stdout",
          "text": [
            "21891.9246\n",
            "A multiplicação é: 21891.92\n",
            "A multiplicação dos números é 21891.92\n",
            "21891.9246\n"
          ]
        },
        {
          "output_type": "execute_result",
          "data": {
            "text/plain": [
              "21891.9246"
            ]
          },
          "metadata": {},
          "execution_count": 7
        }
      ]
    },
    {
      "cell_type": "code",
      "source": [
        "# Divisão\n",
        "c1 = 204.05\n",
        "c2 = 415.7\n",
        "div = c1 / c2\n",
        "\n",
        "#modos de apresentação\n",
        "print(div)\n",
        "print('A multiplicação é:', round(div, 2))\n",
        "print(f\"A multiplicação dos números é {div:.2f}\")\n",
        "print(c1 / c2)\n",
        "c1 / c2"
      ],
      "metadata": {
        "colab": {
          "base_uri": "https://localhost:8080/"
        },
        "id": "Q_1V0SZPBMYD",
        "outputId": "a03ff62a-9462-4f13-88c5-5c186a3c323e"
      },
      "execution_count": 8,
      "outputs": [
        {
          "output_type": "stream",
          "name": "stdout",
          "text": [
            "0.4908587923983642\n",
            "A multiplicação é: 0.49\n",
            "A multiplicação dos números é 0.49\n",
            "0.4908587923983642\n"
          ]
        },
        {
          "output_type": "execute_result",
          "data": {
            "text/plain": [
              "0.4908587923983642"
            ]
          },
          "metadata": {},
          "execution_count": 8
        }
      ]
    },
    {
      "cell_type": "code",
      "source": [
        "# soma (+) Exemplo: Some 3 com 2\n",
        "soma = 3 + 2\n",
        "\n",
        "# subtração (-) Exemplo: Subtraia 2 de 3\n",
        "sub = 3 - 2\n",
        "\n",
        "# multiplacação (*) Exemplo: Multiplique 3 por 2\n",
        "mult = 3 * 2\n",
        "\n",
        "# divisão (/) Exemplo: Divida 3 por 2\n",
        "div = 3 / 2\n",
        "\n",
        "# parte inteira da divisão (//) Exemplo: encontre e guarde a parte inteira de\n",
        "# divisão de 3 por 2\n",
        "idiv = 3 // 2\n",
        "\n",
        "# resto da divisão (%) Exemplo: encontre e guarde o resto da divisão de 3 por 2\n",
        "rdiv = 3 % 2\n",
        "\n",
        "# potenciação (**) Exemplo: eleve 3 a 2\n",
        "pot = 3 ** 2\n",
        "\n",
        "print(soma)\n",
        "print(sub)\n",
        "print(mult)\n",
        "print(div)\n",
        "print(idiv)\n",
        "print(rdiv)\n",
        "print(pot)"
      ],
      "metadata": {
        "colab": {
          "base_uri": "https://localhost:8080/"
        },
        "id": "4GnWL4zQBXyF",
        "outputId": "e14c2767-025f-4878-893a-6372bca8c87d"
      },
      "execution_count": 9,
      "outputs": [
        {
          "output_type": "stream",
          "name": "stdout",
          "text": [
            "5\n",
            "1\n",
            "6\n",
            "1.5\n",
            "1\n",
            "1\n",
            "9\n"
          ]
        }
      ]
    },
    {
      "cell_type": "code",
      "source": [
        "#  Melhorando a visualização dos prints f-string\n",
        "\n",
        "print(f'O resultado da soma de 3 com 2 é: {soma}')\n",
        "print(f'O resultado da divisão de 3 com 2 é: {div}')\n",
        "print(f'O resultado da multiplicação de 3 por 2 é: {mult}')\n",
        "print(f'O resultado da divisão de 3 por 2 é: {div}')\n",
        "print(f'A parte inteira da divisão de 3 por 2 é: {idiv}')\n",
        "print(f'O resto da divisão de 3 por 2 é: {rdiv}')\n",
        "print(f'O resultado da potenciação de 3 elevado por 2 é: {pot}')"
      ],
      "metadata": {
        "colab": {
          "base_uri": "https://localhost:8080/"
        },
        "id": "ST-OENjpBY7V",
        "outputId": "3222a4ce-08ec-4520-d422-c4c886c13ce7"
      },
      "execution_count": 10,
      "outputs": [
        {
          "output_type": "stream",
          "name": "stdout",
          "text": [
            "O resultado da soma de 3 com 2 é: 5\n",
            "O resultado da divisão de 3 com 2 é: 1.5\n",
            "O resultado da multiplicação de 3 por 2 é: 6\n",
            "O resultado da divisão de 3 por 2 é: 1.5\n",
            "A parte inteira da divisão de 3 por 2 é: 1\n",
            "O resto da divisão de 3 por 2 é: 1\n",
            "O resultado da potenciação de 3 elevado por 2 é: 9\n"
          ]
        }
      ]
    },
    {
      "cell_type": "markdown",
      "source": [
        "`Operadores de Comparação (booleanos)`"
      ],
      "metadata": {
        "id": "C5pDVdSBBqDo"
      }
    },
    {
      "cell_type": "code",
      "source": [
        "# (==) verifica se dois valores são iguais (retorna True ou False)\n",
        "# Exemplo compare se 2 é igual a 3\n",
        "\n",
        "a = 3 # atribuição do valor 3 (tipo int) para a variável a\n",
        "b = 3.0 # atribuição do valor 3.0 (tipo float) para a variável b\n",
        "teste1 = a == b # Fazendo o teste de igualdade de a com b e guardando na variável teste1\n",
        "print(teste1) #imprimindo o valor da variável teste1\n",
        "teste2 = 'ma' == 'Ma' #comparando duas strings com uma pequena diferença entre elas (case sensitive)\n",
        "print(teste2) # imprimindo o valor da variável teste2\n",
        "\n",
        "# (!=) verifica se dois valores são diferentes (retorna True ou False)\n",
        "# Exemplo: compare se 3(variável a) é diferente a 3.0 (variável b)\n",
        "teste3 = a != b\n",
        "print(teste3)\n",
        "# (>) verifica se um valor é maior que o outro (retorna True ou False)\n",
        "# Exemplo: compare se 3 é maior que 2\n",
        "teste4 = 3 > 3\n",
        "print(teste4)\n",
        "\n",
        "# (>=) verifica se um valor é maior ou igual ao outro (retorna True ou False)\n",
        "# Exemplo compra se 3 é mair ou igual a 3\n",
        "teste5 = 3 >= 3\n",
        "print(teste5)\n",
        "\n",
        "# (<) veirifica se um número é menor que outro (retorna True ou False)\n",
        "# Exemplo: compare se 2 é menor que 2\n",
        "teste6 = 2 < 2\n",
        "print(teste6)\n",
        "\n",
        "# (<=) verifica se um valor é menor ou igual ao outro (retorna True ou False)\n",
        "# Exemplo: compara se 2 é menor ou igual a 2\n",
        "teste7 = 2 <= 2\n",
        "print(teste7)"
      ],
      "metadata": {
        "colab": {
          "base_uri": "https://localhost:8080/"
        },
        "id": "tjcgmRgQBbuw",
        "outputId": "f0bfcef4-ec44-422f-b192-8c3aff6ad006"
      },
      "execution_count": 11,
      "outputs": [
        {
          "output_type": "stream",
          "name": "stdout",
          "text": [
            "True\n",
            "False\n",
            "False\n",
            "False\n",
            "True\n",
            "False\n",
            "True\n"
          ]
        }
      ]
    },
    {
      "cell_type": "markdown",
      "source": [
        "`Operadores de atribuição`"
      ],
      "metadata": {
        "id": "le3Hzf2fB-dT"
      }
    },
    {
      "cell_type": "code",
      "source": [
        "# Atribuição direta (=) atribui ao lado esquerdo do sinal um valor que esta ao lado direito do sinal\n",
        "nome = 'douglas'\n",
        "peso_kg = 84\n",
        "altura_m = 1.82\n",
        "\n",
        "# Atribuição de incremento (+=), equivalte a x = x + y  (equivale a uma variável x que já existe recebendo ela mesma + outro valor)\n",
        "# Exemplo: crie uma variável t que receba o número inteiro 3, e depois acrescente o valor 1 para essa varíavel.\n",
        "t = 3\n",
        "# t = t + 1\n",
        "t += 1\n",
        "print(f'O resultado de t + 1 é: {t}')\n",
        "\n",
        "# Atribuição de decremento (-=) equivale a x = x - y (equivale a uma variável x que já existe recebendo ela mesma - outro valor)\n",
        "# Exemplo: crie uma viariável z que receba o número inteiro 5, e depois diminua 2 para essa variável\n",
        "z = 5\n",
        "z -= 2\n",
        "print(f'O resultado de z - 2 é: {z}')\n",
        "\n",
        "# Atribuição de multiplicação (*=) equivale a x = x * y\n",
        "# Exemplo: crie uma variável j que receba o número 5, e depois multiplique por 2\n",
        "j = 5\n",
        "j *= 2\n",
        "print(f'O resultado de j * 2 é: {j}')\n",
        "\n",
        "# Atribuição de divisão (/=) equivale a x = x / y\n",
        "# Exemplo: crie uma variável w que recebe o número 7, e depois divida por 2\n",
        "w = 7\n",
        "w /= 2\n",
        "print(f'O resultado de w / 2 é: {w}')\n",
        "\n",
        "# Atribuição da parte inteira da divisão (//=) equivale a x = x // y\n",
        "# Exemplo: crie uma variável k que recebe o número 7, e depois receba a parte inteira da divisão por 2\n",
        "k = 7\n",
        "k //= 2\n",
        "print(f'O resultado de k // 2 é: {k}')\n",
        "\n",
        "# Atribuição do resto da divisão (%=) equivale a x = x % y\n",
        "# Exemplo: crie uma variável b que recebe o número 7, e depois receba o resto da divisão por 2\n",
        "b = 7\n",
        "b  %= 2\n",
        "print(f'O resultado de b % 2 é: {b}')\n",
        "\n",
        "# Atribuição de potenciação (**=) equivale a x = x ** y\n",
        "# Exemplo crie uma variável casamento que receba o valor 6 e depois receba o quadro dela\n",
        "casamento = 6\n",
        "casamento **=2\n",
        "print(f'O professor Douglas casará : {casamento} vezes nesta vida')"
      ],
      "metadata": {
        "id": "Nb_2N5yDBgqp"
      },
      "execution_count": null,
      "outputs": []
    },
    {
      "cell_type": "markdown",
      "source": [
        "`Operadores lógicos`"
      ],
      "metadata": {
        "id": "o8h2XMncCFU-"
      }
    },
    {
      "cell_type": "code",
      "source": [
        "# (and) Retorna verdadeiro somente se todas as condições de uma comparação forem satisfeitas\n",
        "# Exemplo:\n",
        "teste8 = 3 >= 2 and 3 != 2 and 3 < 4\n",
        "print(teste8)\n",
        "\n",
        "# (&) Retorna verdadeiro somente se todas as condições de uma comparação forem satisfeitas\n",
        "# Exemplo:\n",
        "teste9 = (3 <= 2) & (3 != 2) & (3 < 4)\n",
        "print(teste9)\n",
        "\n",
        "# (or) Retorna verdadeiro se um dos elementos for verdadeiro\n",
        "# Exemplo:\n",
        "teste10 = 3 >= 2 or 3 == 2 or 3 > 4\n",
        "print(teste10)\n",
        "\n",
        "# (not) inverte verdadeiro para falso\n",
        "# Exemplo:\n",
        "teste11 = not(teste10)\n",
        "print(teste11)\n",
        "teste12 = not(teste9)\n",
        "print(teste12)\n",
        "teste13 = ((not(3 <= 2)) & (not(3 != 2)) & (3 < 4)) # Invertendo o resultado da primeira sentença\n",
        "print(teste13)\n",
        "teste14 = not((3 <= 2) & (3 != 2) & (3 < 4)) # Invertendo o resultado da comparação de todas as sentenças\n",
        "print(teste14)"
      ],
      "metadata": {
        "id": "NpADkN_gCG4D"
      },
      "execution_count": null,
      "outputs": []
    },
    {
      "cell_type": "markdown",
      "source": [
        "`Operadores de identidade (is, is not)`"
      ],
      "metadata": {
        "id": "ucJec36dCOLK"
      }
    },
    {
      "cell_type": "code",
      "source": [
        "# (is) compara se um objeto é igual ao outro em relação ao valor e o tipo\n",
        "h = 3\n",
        "p = 3\n",
        "teste16 = p == h\n",
        "print(f'p == h é: {teste16}')\n",
        "teste17 = p is h\n",
        "print(f'p is h é: {teste17}')\n",
        "m = 3\n",
        "n = 3.0\n",
        "teste18 = m == n\n",
        "print(f'm == n é: {teste18}')\n",
        "teste19 = m is n\n",
        "print(f'm is n é: {teste19}')\n",
        "print(type(m))\n",
        "print(type(n))\n",
        "\n",
        "# (is) compara se um objeto é diferente ao outro em relação ao valor e o tipo\n",
        "x = 3\n",
        "y = 4\n",
        "teste20 = x != y\n",
        "print(f'x != y é: {teste20}')\n",
        "teste21 = x is not y\n",
        "print(f'x is not y é: {teste21}')\n",
        "o = 3\n",
        "s = 3.0\n",
        "teste22 = o != s\n",
        "print(f'o != s é: {teste22}')\n",
        "teste23 = o is not s\n",
        "print(f'o is not s é: {teste23}')\n",
        "print(type(o))\n",
        "print(type(s))"
      ],
      "metadata": {
        "id": "IiRRhefVCLra"
      },
      "execution_count": null,
      "outputs": []
    },
    {
      "cell_type": "markdown",
      "source": [
        "`Operadores de associação (in, not in)`"
      ],
      "metadata": {
        "id": "0wrvES6FCVRM"
      }
    },
    {
      "cell_type": "code",
      "source": [
        "# (in) retorna verdadeiro se um caracter ou sequencia de caracteres for encontrado dentro de uma string\n",
        "# Exemplo:\n",
        "nome ='maria'\n",
        "teste24 = 'ma' in nome\n",
        "print(f'maria contém ma: {teste24}')\n",
        "\n",
        "# (not in) retorna verdadeiro se um caracter ou sequencia de caracteres NÃO for encontrado dentro de uma string\n",
        "# Exemplo:\n",
        "teste25 = 'MA' not in nome\n",
        "print(f'Maria não contém MA: {teste25}')"
      ],
      "metadata": {
        "colab": {
          "base_uri": "https://localhost:8080/"
        },
        "id": "1Uu0aeKKCXWe",
        "outputId": "2e7d73f4-71a7-4b66-bfc1-e62be2ac315c"
      },
      "execution_count": 13,
      "outputs": [
        {
          "output_type": "stream",
          "name": "stdout",
          "text": [
            "maria contém ma: True\n",
            "Maria não contém MA: True\n"
          ]
        }
      ]
    },
    {
      "cell_type": "markdown",
      "source": [
        "`Coletando informações do usuário`"
      ],
      "metadata": {
        "id": "9CnWQe_NCriX"
      }
    },
    {
      "cell_type": "code",
      "source": [
        "nome = input('Informe seu nome: ')\n",
        "print(f'O nome digitado é: {nome}')\n",
        "peso = int(input('Informe seu peso em kg inteiros: '))\n",
        "print(f'{nome} tem: {peso}kg')\n",
        "altura = float(input('Informe sua altura em metros: '))\n",
        "print(f'{nome} tem: {peso}kg e {altura}metros.')\n",
        "imc = peso / (altura)**2\n",
        "print(f'{nome}, seu imc é {imc:.1f}')"
      ],
      "metadata": {
        "id": "0kvLdsefCs7-"
      },
      "execution_count": null,
      "outputs": []
    },
    {
      "cell_type": "markdown",
      "source": [
        "## **Strings - índice**\n"
      ],
      "metadata": {
        "id": "VWgE-yDD0kB4"
      }
    },
    {
      "cell_type": "markdown",
      "source": [
        "![indexstrings.jpeg](data:image/jpeg;base64,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)"
      ],
      "metadata": {
        "id": "bUDQJIa00rfC"
      }
    },
    {
      "cell_type": "code",
      "source": [
        "email = 'doug@gmail.com'\n",
        "# encontrando um caracter pelo índice\n",
        "# Exemplo: qual é o quinto caracter dessa string?\n",
        "print(f'O quinto caracter dessa string é: {email[4]}')\n",
        "# Exemplo: qual é o último caracter dessa string?\n",
        "print(f'O último caracter dessa string é: {email[13]}')\n",
        "# Exemplo: quais são os caracteres que vem depois do segundo (excluindo o segundo)\n",
        "print(f'O quinto caractere dessa string é: {email[2:]}')\n",
        "# Exemplo: quais são todos os caracteres dessa string?\n",
        "print(f'A sequência de todos os caracteres dessa string é: {email[:]}')\n",
        "# Exemplo: buscar e imprimir todos os caracteres até o caractere de indice 4\n",
        "print(f'A sequência de todos os caracteres até o @ é: {email[:5]}')\n",
        "# Exemplo: como acessar o último caracter da lista sem contar o tamanho dela (sem usar a função len())\n",
        "print(f'O último caracter dessa string é: {email[-1]}')"
      ],
      "metadata": {
        "colab": {
          "base_uri": "https://localhost:8080/"
        },
        "id": "_P9ZljyL0t7U",
        "outputId": "ed90ba9f-aff8-437a-d116-5179468ef1b7"
      },
      "execution_count": null,
      "outputs": [
        {
          "output_type": "stream",
          "name": "stdout",
          "text": [
            "O quinto caracter dessa string é: @\n",
            "O último caracter dessa string é: m\n",
            "O quinto caractere dessa string é: ug@gmail.com\n",
            "A sequência de todos os caracteres dessa string é: doug@gmail.com\n",
            "A sequência de todos os caracteres até o @ é: doug@\n",
            "O último caracter dessa string é: m\n"
          ]
        }
      ]
    },
    {
      "cell_type": "markdown",
      "source": [
        "`Métodos para Strings`"
      ],
      "metadata": {
        "id": "rXvI7t6s08fB"
      }
    },
    {
      "cell_type": "code",
      "source": [
        "# Sinal de (+) para concatenar strings\n",
        "nome = 'Douglas'\n",
        "sobre = 'Ribeiro'\n",
        "print(nome +\" \"+ sobre)\n",
        "# Converter um número em string\n",
        "cpf = 8958587747\n",
        "str(cpf)\n",
        "print(type(cpf))\n",
        "# (in) retorna verdadeiro se um caracter ou sequencia de caracteres for encontrado dentro de uma string\n",
        "# Exemplo:\n",
        "nomen ='douglas'\n",
        "testen = 'doug' in nomen\n",
        "print(f'douglas contém doug: {testen}')\n",
        "\n",
        "# (not in) retorna verdadeiro se um caracter ou sequencia de caracteres NÃO for encontrado dentro de uma string\n",
        "# Exemplo:\n",
        "testen = 'Doug' not in nomen\n",
        "print(f'douglas não contém Doug: {testen}')\n",
        "# (len) contar o número de caracteres de uma string\n",
        "qtde = len(nome)\n",
        "print(f'{nome} tem {qtde} caracteres')"
      ],
      "metadata": {
        "colab": {
          "base_uri": "https://localhost:8080/"
        },
        "id": "uGK41qDw090h",
        "outputId": "f8307209-e8fc-4a6a-e91e-c43edb16c079"
      },
      "execution_count": null,
      "outputs": [
        {
          "output_type": "stream",
          "name": "stdout",
          "text": [
            "Douglas Ribeiro\n",
            "<class 'int'>\n",
            "douglas contém doug: True\n",
            "douglas não contém Doug: True\n",
            "Douglas tem 7 caracteres\n"
          ]
        }
      ]
    },
    {
      "cell_type": "markdown",
      "source": [
        "`Métodos específicos para strings`"
      ],
      "metadata": {
        "id": "a4UDQolb1jaF"
      }
    },
    {
      "cell_type": "code",
      "source": [
        "# Método para deixar a primeira letra de uma string maiúscula\n",
        "nomem = 'ma'\n",
        "print(nomem)\n",
        "nomem = nomem.capitalize()\n",
        "print(nomem)\n",
        "\n",
        "# Método para deixar tudo minusculo\n",
        "\n",
        "nomem = nomem.casefold()\n",
        "print(nomem)"
      ],
      "metadata": {
        "colab": {
          "base_uri": "https://localhost:8080/"
        },
        "id": "FyLv9R5y1rhQ",
        "outputId": "f41c0505-911d-401d-d051-d9d45823a038"
      },
      "execution_count": null,
      "outputs": [
        {
          "output_type": "stream",
          "name": "stdout",
          "text": [
            "ma\n",
            "Ma\n",
            "ma\n"
          ]
        }
      ]
    },
    {
      "cell_type": "code",
      "source": [
        "# (cout) contar quantas vezes um caracter aparece em uma string\n",
        "material = 'paralelepipedo'\n",
        "qtde_p = material.count('p')\n",
        "print(f'{material} tem {qtde_p} Ps')"
      ],
      "metadata": {
        "colab": {
          "base_uri": "https://localhost:8080/"
        },
        "id": "2kgXV31A1wXW",
        "outputId": "b1a01623-8bd4-4f07-a1f3-f1dae29e1761"
      },
      "execution_count": null,
      "outputs": [
        {
          "output_type": "stream",
          "name": "stdout",
          "text": [
            "paralelepipedo tem 3 Ps\n"
          ]
        }
      ]
    },
    {
      "cell_type": "code",
      "source": [
        "# (endswith) verifica se uma string termina com um caracter ou sequencia de caracteres\n",
        "email = 'dudacrespo@gmail.com'\n",
        "teste_end = email.endswith('@gmail.com')\n",
        "print(teste_end)"
      ],
      "metadata": {
        "colab": {
          "base_uri": "https://localhost:8080/"
        },
        "id": "rB85BPPN1yMl",
        "outputId": "ce42ff92-167b-4b9c-80eb-8feb9ab551d5"
      },
      "execution_count": null,
      "outputs": [
        {
          "output_type": "stream",
          "name": "stdout",
          "text": [
            "True\n"
          ]
        }
      ]
    },
    {
      "cell_type": "code",
      "source": [
        "# (startswith) verifica se uma string começa com um caracter ou sequencia de caracteres\n",
        "email = 'dudacrespo@gmail.com'\n",
        "teste_beg = email.startswith('dudacrespo')\n",
        "print(teste_beg)"
      ],
      "metadata": {
        "colab": {
          "base_uri": "https://localhost:8080/"
        },
        "id": "kS0ceaO4147c",
        "outputId": "b702028e-1c4b-4a1b-be4f-eb85ca16db55"
      },
      "execution_count": null,
      "outputs": [
        {
          "output_type": "stream",
          "name": "stdout",
          "text": [
            "True\n"
          ]
        }
      ]
    },
    {
      "cell_type": "code",
      "source": [
        "# (isnumeric) verifica se uma string é formada por números\n",
        "rg = '5457865568'\n",
        "teste_rg = rg.isnumeric()\n",
        "print(teste_rg)"
      ],
      "metadata": {
        "id": "ExYc1iEU19p-"
      },
      "execution_count": null,
      "outputs": []
    },
    {
      "cell_type": "code",
      "source": [
        "# (isalpha) veirfica se uma string é formada por letras\n",
        "rg2 = 'ma'\n",
        "teste_rg2 = rg2.isalpha()\n",
        "print(teste_rg2)"
      ],
      "metadata": {
        "colab": {
          "base_uri": "https://localhost:8080/"
        },
        "id": "eVP6uGya2AtN",
        "outputId": "c6595bfa-e8c9-491f-adc3-722fc2e1296e"
      },
      "execution_count": null,
      "outputs": [
        {
          "output_type": "stream",
          "name": "stdout",
          "text": [
            "True\n"
          ]
        }
      ]
    },
    {
      "cell_type": "code",
      "source": [
        "# (isalnum) verifica se uma string é formada por lestras ou números\n",
        "rg3 = 'hello5'\n",
        "teste_rg3 = rg2.isalnum()\n",
        "print(teste_rg3)"
      ],
      "metadata": {
        "colab": {
          "base_uri": "https://localhost:8080/"
        },
        "id": "MhvhtNhy2Du9",
        "outputId": "ef951cbb-f4d0-44a8-fcdd-3769f4db3716"
      },
      "execution_count": null,
      "outputs": [
        {
          "output_type": "stream",
          "name": "stdout",
          "text": [
            "True\n"
          ]
        }
      ]
    },
    {
      "cell_type": "code",
      "source": [
        "# (split)\n",
        "dados = input(\"Informe os valores separados por espaços: \")\n",
        "dados_sep = dados.split()\n",
        "print(dados_sep)"
      ],
      "metadata": {
        "colab": {
          "base_uri": "https://localhost:8080/"
        },
        "id": "DUZIaoYu2MgF",
        "outputId": "01e4b273-e9aa-41f9-cd07-ab7fb652a86c"
      },
      "execution_count": null,
      "outputs": [
        {
          "output_type": "stream",
          "name": "stdout",
          "text": [
            "Informe os valores separados por espaços: 5\n",
            "['5']\n"
          ]
        }
      ]
    },
    {
      "cell_type": "code",
      "source": [
        "# (strip) Elimina caracteres indesejados de uma string. Por padrão, remove espaços do início e do final da string\n",
        "\n",
        "autor = ' Douglas '\n",
        "print(len(autor))\n",
        "autor = autor.strip()\n",
        "print(len(autor))"
      ],
      "metadata": {
        "colab": {
          "base_uri": "https://localhost:8080/"
        },
        "id": "yjEkkDxH2cxb",
        "outputId": "c9e51669-3944-4890-9e0d-feab15f05194"
      },
      "execution_count": null,
      "outputs": [
        {
          "output_type": "stream",
          "name": "stdout",
          "text": [
            "9\n",
            "7\n"
          ]
        }
      ]
    },
    {
      "cell_type": "code",
      "source": [
        "# (replace) substitui um caracter por outro\n",
        "preco = 'R$ 9.90'\n",
        "print(preco)\n",
        "preco = preco.replace('.', ',')\n",
        "print(preco)"
      ],
      "metadata": {
        "colab": {
          "base_uri": "https://localhost:8080/"
        },
        "id": "-vtCrhH82mLS",
        "outputId": "f1fb3581-4560-4612-b0cd-a35a3fa44c3c"
      },
      "execution_count": null,
      "outputs": [
        {
          "output_type": "stream",
          "name": "stdout",
          "text": [
            "R$ 9.90\n",
            "R$ 9,90\n"
          ]
        }
      ]
    },
    {
      "cell_type": "code",
      "source": [
        "# (title) coloca a primeira letra da palavra em maiúscula\n",
        "# Exemplo\n",
        "comp = 'maria eduarda crespo'\n",
        "print(comp)\n",
        "comp = comp. title()\n",
        "print(comp)"
      ],
      "metadata": {
        "colab": {
          "base_uri": "https://localhost:8080/"
        },
        "id": "xBkFJ-rU2oi0",
        "outputId": "31107432-fce9-4125-e041-bbfc7526e692"
      },
      "execution_count": null,
      "outputs": [
        {
          "output_type": "stream",
          "name": "stdout",
          "text": [
            "maria eduarda crespo\n",
            "Maria Eduarda Crespo\n"
          ]
        }
      ]
    },
    {
      "cell_type": "code",
      "source": [
        "# (upper) coloca todas as letras de um texto em maiúsculo\n",
        "prof = 'douglas'\n",
        "print(prof)\n",
        "prof = prof.upper()\n",
        "print(prof)"
      ],
      "metadata": {
        "colab": {
          "base_uri": "https://localhost:8080/"
        },
        "id": "PyK3kanC2tuD",
        "outputId": "d1200346-7e60-4dab-9783-da5258cae404"
      },
      "execution_count": null,
      "outputs": [
        {
          "output_type": "stream",
          "name": "stdout",
          "text": [
            "douglas\n",
            "DOUGLAS\n"
          ]
        }
      ]
    },
    {
      "cell_type": "markdown",
      "source": [
        "## **Estrutura de Condição - If, Elif, Else**"
      ],
      "metadata": {
        "id": "zazuxZ5t21RP"
      }
    },
    {
      "cell_type": "markdown",
      "source": [
        "`Instrução \"if\":`\n",
        "* A instrução \"if\" é usada para executar um bloco de código se uma determinada condição for verdadeira. A sintaxe geral é a seguinte:"
      ],
      "metadata": {
        "id": "ytBM3mI229I_"
      }
    },
    {
      "cell_type": "code",
      "source": [
        "'''\n",
        "if condição:\n",
        "  # bloco de código a ser executado se a condição for verdadeira\n",
        "'''"
      ],
      "metadata": {
        "id": "9Cjxlgkc3IIg"
      },
      "execution_count": null,
      "outputs": []
    },
    {
      "cell_type": "code",
      "source": [
        "idade = 19\n",
        "if idade >= 18:\n",
        "  print(\"Você é maior de idade.\")"
      ],
      "metadata": {
        "id": "_T0aXTrE3JOo"
      },
      "execution_count": null,
      "outputs": []
    },
    {
      "cell_type": "code",
      "source": [
        "idade = 18\n",
        "if idade >= 18:\n",
        "  print(\"Você é maior de idade.\")"
      ],
      "metadata": {
        "id": "5FaTM04v3MkT"
      },
      "execution_count": null,
      "outputs": []
    },
    {
      "cell_type": "code",
      "source": [
        "idade = 17\n",
        "if idade >= 18:\n",
        "    print(\"Vocêr é maior de idade.\")"
      ],
      "metadata": {
        "id": "A-6j_WaR3OTt"
      },
      "execution_count": null,
      "outputs": []
    },
    {
      "cell_type": "markdown",
      "source": [
        "`Intrução \"else\":`\n",
        "* A instrução \"else\" é usada em conjunto com a instrução \"if\" e especificada um bloco de código a ser executado se a condição do \"if\" não for verdadeira. A sintaxe geral é a seguinte:"
      ],
      "metadata": {
        "id": "2JVd-aY53V9T"
      }
    },
    {
      "cell_type": "code",
      "source": [
        "'''\n",
        "if condição:\n",
        "  # bloco de código a ser executado se a condição for verdadeira\n",
        "else:\n",
        "  # bloco de códgio a ser executado se a condição não for verdadeira\n",
        "'''"
      ],
      "metadata": {
        "id": "9k4KB3eG3aEP"
      },
      "execution_count": null,
      "outputs": []
    },
    {
      "cell_type": "code",
      "source": [
        "idade = int(input('Digite sua idade: '))\n",
        "\n",
        "if idade >= 18:\n",
        "  print(\"Você é maior de idade.\")\n",
        "else:\n",
        "  print(\"Você é menor de idade.\")"
      ],
      "metadata": {
        "id": "6KNZL3e83cIF"
      },
      "execution_count": null,
      "outputs": []
    },
    {
      "cell_type": "markdown",
      "source": [
        "`Instrução \"elif\":`\n",
        "* A instrução \"elif\" é uma abreviação de \"else if\" e permite testar múltiplas condições em sequência. Ela é usada quando há mais de duas possibilidades a serem consideradas. A sintaxe geral é a seguinte:"
      ],
      "metadata": {
        "id": "fLQggbos3flI"
      }
    },
    {
      "cell_type": "code",
      "source": [
        "'''\n",
        "if condição1:\n",
        "    # bloco de código a ser executado se a condição1 for verdadeira\n",
        "elif condição2:\n",
        "    # bloco de código a ser executado se a condição2 for verdadeira\n",
        "else:\n",
        "    # bloco de código a ser executado se nenhuma das condições anteriores for verdadeira\n",
        "'''"
      ],
      "metadata": {
        "id": "3MhwFS0T3hUH"
      },
      "execution_count": null,
      "outputs": []
    },
    {
      "cell_type": "code",
      "source": [
        "nota = float(input('Digite sua nota: '))\n",
        "\n",
        "if nota >= 90:\n",
        "    print(\"Sua nota é A\")\n",
        "elif nota >= 80:\n",
        "    print(\"Sua nota é B\")\n",
        "elif nota >= 70:\n",
        "    print(\"Sua nota é C\")\n",
        "else:\n",
        "    print(\"Sua nota é D\")"
      ],
      "metadata": {
        "id": "PtO1faxM3jGD"
      },
      "execution_count": null,
      "outputs": []
    },
    {
      "cell_type": "markdown",
      "source": [
        "`Exemplo:`\n",
        "*  Escreva um programa que verifique se um número digitado pelo usuário é positivo, negativo ou zero."
      ],
      "metadata": {
        "id": "kxy3-2K-3uZ5"
      }
    },
    {
      "cell_type": "markdown",
      "source": [
        "Passo a passo:\n",
        "\n",
        "1. Solicite ao usuário que digite um número.\n",
        "2. Armazene o número digitado em uma variável chamada \"numero\".\n",
        "3. Verifique se o número digitado é igual a zero. Se sim, exiba a mensagem \"O número digitado é zero.\"\n",
        "4. Caso contrário, verifique se o número é maior que zero. Se sim, exiba a mensagem \"O número digitado é positivo.\"\n",
        "5. Se nenhuma das condições anteriores for atendida, significa que o número é negativo. Nesse caso, exiba a mensagem \"O número digitado é negativo.\"\n",
        "6. Encerre o programa."
      ],
      "metadata": {
        "id": "yv3Vb0SvC44G"
      }
    },
    {
      "cell_type": "code",
      "source": [
        "numero = float(input(\"Digite um número: \"))\n",
        "\n",
        "if numero == 0:\n",
        "    print(\"O número digitado é zero.\")\n",
        "elif numero > 0:\n",
        "    print(\"O número digitado é positivo.\")\n",
        "else:\n",
        "    print(\"O número digitado é negativo.\")"
      ],
      "metadata": {
        "id": "TBEDKs1C3v2g"
      },
      "execution_count": null,
      "outputs": []
    },
    {
      "cell_type": "markdown",
      "source": [
        "## **Atividades**:\n",
        "\n",
        ">\n",
        "\n"
      ],
      "metadata": {
        "id": "Qf2FD9sTpPz7"
      }
    },
    {
      "cell_type": "markdown",
      "source": [
        "\n",
        "1. Faça um algoritmo que leia um número inteiro e diga se ele é maior, menor ou igual a 10;\n",
        "2. Faça um algoritmo que leia dois números inteiros e apresente na tela o maior deles ou se eles são iguais;\n",
        "3. Crie um algoritmo que leia um número e diga se ele está no intervalo fechado entre 25 e 200;\n",
        "4. Crie um algoritmo que leia um número e informe na tela se o mesmo é positivo. Caso seja, mostre o número na tela;\n",
        "5. Crie um algoritmo que leia um número e informe se ele é divisível por 7.\n",
        "6. Crie um algoritmo que leia um número e diga se ele é par ou ímpar.\n",
        "7. Escreva um programa em Python que solicite ao usuário que digite uma letra. Em seguida, verifique se a letra digitada é uma vogal ou não.\n",
        "8. Escreva um programa que solicite ao usuário três notas de um aluno e calcule a média. Em seguida, exiba a média e uma mensagem informando se o aluno foi aprovado (média maior ou igual a 7) ou reprovado.\n",
        "9. Escreva um programa que solicite ao usuário os comprimentos dos três lados de um triângulo. Em seguida, exiba uma mensagem informando se o triângulo é equilátero (todos os lados iguais), isósceles (dois lados iguais) ou escaleno (todos os lados diferentes).\n",
        "10.  Escreva um programa que solicite ao usuário sua idade e exiba uma mensagem informando em qual faixa etária ele se encontra: criança (0-12 anos), adolescente (13-17 anos), adulto (18-59 anos) ou idoso (60 anos ou mais).\n"
      ],
      "metadata": {
        "id": "_KEthGO6UIS-"
      }
    },
    {
      "cell_type": "code",
      "source": [
        "# 1. Faça um algoritmo que leia um número inteiro e diga se ele é maior, menor ou igual a 10;\n",
        "\n",
        "num_int = int(input(\"Digite um número inteiro: \"))\n",
        "if num_int == 10:\n",
        "  print(\"O número é igual a 10\")\n",
        "elif num_int < 10:\n",
        "  print(\"O número é menor que 10\")\n",
        "else:\n",
        "  print(\"O número é maior que 10\")"
      ],
      "metadata": {
        "id": "o9o5pdv0UMPa"
      },
      "execution_count": null,
      "outputs": []
    },
    {
      "cell_type": "code",
      "source": [
        "# 2. Faça um algoritmo que leia dois números inteiros e apresente na tela o maior deles ou se eles são iguais;\n",
        "num_int1 = int(input(\"Digite o primeiro número: \"))\n",
        "num_int2 = int(input(\"Digite o segundo número: \"))\n",
        "if num_int1 == num_int2:\n",
        "  print(\"Os números digitados são iguais:\",num_int1)\n",
        "elif num_int1 > num_int2:\n",
        "  print(\"O primeiro número digitado é maior:\",num_int1)\n",
        "else:\n",
        "  print(\"O segundo número digitado é maior:\",num_int2)\n"
      ],
      "metadata": {
        "id": "gdMf8MjfUOGR"
      },
      "execution_count": null,
      "outputs": []
    },
    {
      "cell_type": "code",
      "source": [
        "# 3. Crie um algoritmo que leia um número e diga se ele está no intervalo fechado entre 25 e 200;\n",
        "numero = float(input(\"Digite um número: \"))\n",
        "if numero >= 25 and numero <= 200:\n",
        "  print(\"O número está no intervalo entre 25 e 200:\", numero)\n",
        "else:\n",
        "  print(\"o número não está no intervalo.\", numero)"
      ],
      "metadata": {
        "colab": {
          "base_uri": "https://localhost:8080/"
        },
        "id": "UW7H02i8UP9f",
        "outputId": "6af770b9-5c4f-4dfe-94cb-e1bfa3fcae4c"
      },
      "execution_count": null,
      "outputs": [
        {
          "output_type": "stream",
          "name": "stdout",
          "text": [
            "Digite um número: 5\n",
            "o número não está no intervalo. 5.0\n"
          ]
        }
      ]
    },
    {
      "cell_type": "code",
      "source": [
        "# 4. Crie um algoritmo que leia um número e informe na tela se o mesmo é positivo. Caso seja, mostre o número na tela;\n",
        "numero_boolean = float(input(\"Digite um número: \"))\n",
        "if numero_boolean > 0:\n",
        "  print(\"O número digitado é positivo, o seu número foi: \",numero_boolean)\n",
        "else:\n",
        "  print(\"Tente novamente :( \")\n"
      ],
      "metadata": {
        "colab": {
          "base_uri": "https://localhost:8080/"
        },
        "id": "BtNnU_usUR2u",
        "outputId": "f7877552-9850-4e42-dace-a4be8c02d5f9"
      },
      "execution_count": null,
      "outputs": [
        {
          "output_type": "stream",
          "name": "stdout",
          "text": [
            "Digite um número: 0\n",
            "Tente novamente :( \n"
          ]
        }
      ]
    },
    {
      "cell_type": "code",
      "source": [
        "# 5. Crie um algoritmo que leia um número e informe se ele é divisível por 7.\n",
        "numero_div = float(input(\"Digite um número: \"))\n",
        "if numero_div % 7 == 0:\n",
        "  print(\"O número é divisível por 7\")\n",
        "else:\n",
        "  print(\"O número não é divisível por 7\")"
      ],
      "metadata": {
        "colab": {
          "base_uri": "https://localhost:8080/"
        },
        "id": "GEPGc7qhUZxx",
        "outputId": "2b174c20-4b77-4783-f031-be4d57fa062c"
      },
      "execution_count": null,
      "outputs": [
        {
          "output_type": "stream",
          "name": "stdout",
          "text": [
            "Digite um número: 15\n",
            "O seu número não é divisível por 7\n"
          ]
        }
      ]
    },
    {
      "cell_type": "code",
      "source": [
        "# 6. Crie um algoritmo que leia um número e diga se ele é par ou ímpar.\n",
        "num_par_ou_impar = float(input(\"Digite um número: \"))\n",
        "if num_par_ou_impar % 2 == 0:\n",
        "  print(\"O número digitado é par\",num_par_ou_impar)\n",
        "else:\n",
        "  print(\"O número digitado é impar\",num_par_ou_impar)"
      ],
      "metadata": {
        "colab": {
          "base_uri": "https://localhost:8080/"
        },
        "id": "fbi7UHirUcki",
        "outputId": "91a388a9-243d-4181-fc84-d3206d8534f2"
      },
      "execution_count": null,
      "outputs": [
        {
          "output_type": "stream",
          "name": "stdout",
          "text": [
            "Digite um número: 12.5\n",
            "O número digitado é impar 12.5\n"
          ]
        }
      ]
    },
    {
      "cell_type": "code",
      "source": [
        "# 7. Escreva um programa em Python que solicite ao usuário que digite uma letra. Em seguida, verifique se a letra digitada é uma vogal ou não.\n",
        "vogal_ou_consoante = str(input(\"Digite uma letra: \").lower())\n",
        "if vogal_ou_consoante == \"a\" or vogal_ou_consoante == \"e\" or vogal_ou_consoante == \"i\" or vogal_ou_consoante == \"o\" or vogal_ou_consoante == \"u\":\n",
        "  print(\"A letra é uma vogal:\", vogal_ou_consoante)\n",
        "else:\n",
        "  print(\"A letra é uma consoante:\", vogal_ou_consoante)\n"
      ],
      "metadata": {
        "colab": {
          "base_uri": "https://localhost:8080/"
        },
        "id": "-FbnlnyMUelv",
        "outputId": "a614755d-3a83-4a2d-9120-65ccabbbbb6c"
      },
      "execution_count": null,
      "outputs": [
        {
          "output_type": "stream",
          "name": "stdout",
          "text": [
            "Digite uma letra: y\n",
            "A letra é uma consoante: y\n"
          ]
        }
      ]
    },
    {
      "cell_type": "code",
      "source": [
        "# 8. Escreva um programa que solicite ao usuário três notas de um aluno e calcule a média. Em seguida, exiba a média e uma mensagem informando se o aluno foi aprovado (média maior ou igual a 7) ou reprovado.\n",
        "num_nota1 = float(input(\"Digite sua primeira nota: \"))\n",
        "num_nota2 = float(input(\"Digite sua segunda nota: \"))\n",
        "num_nota3 = float(input(\"Digite sua terceira nota: \"))\n",
        "media = (num_nota1 + num_nota2 + num_nota3) / 3\n",
        "if media >= 7:\n",
        "  print(\"Você foi aprovado! Sua média é: \",media)\n",
        "else:\n",
        "  print(\"Você foi reprovado!\")"
      ],
      "metadata": {
        "colab": {
          "base_uri": "https://localhost:8080/"
        },
        "id": "7adnHcuYUhR5",
        "outputId": "ef8e302d-8126-45be-e9cf-9a86cfc9e879"
      },
      "execution_count": null,
      "outputs": [
        {
          "output_type": "stream",
          "name": "stdout",
          "text": [
            "Digite sua primeira nota: 5\n",
            "Digite sua segunda nota: 5\n",
            "Digite sua terceira nota: 1\n",
            "Você foi reprovado!\n"
          ]
        }
      ]
    },
    {
      "cell_type": "code",
      "source": [
        "# 9. Escreva um programa que solicite ao usuário os comprimentos dos três lados de um triângulo. Em seguida, exiba uma mensagem informando se o triângulo é equilátero (todos os lados iguais), isósceles (dois lados iguais) ou escaleno (todos os lados diferentes).\n",
        "lado1 = float(input(\"Digite o primeiro lado: \"))\n",
        "lado2 = float(input(\"Digite o segundo lado: \"))\n",
        "lado3 = float(input(\"Digite o terceiro lado: \"))\n",
        "if lado1 == lado2 and lado2 == lado3:\n",
        "  print(\"O triângulo é equilátero (todos os lados iguais)\")\n",
        "elif lado1 == lado2 or lado1 == lado3 or lado2 == lado3:\n",
        "  print(\"O triângulo é isósceles (dois lados iguais)\")\n",
        "else:\n",
        "  print(\"O triângulo é escaleno (todos os lados diferentes)\")"
      ],
      "metadata": {
        "colab": {
          "base_uri": "https://localhost:8080/"
        },
        "id": "teEbOFfoUjNb",
        "outputId": "4a65f3ea-5987-4156-821e-48ed59bbfde0"
      },
      "execution_count": null,
      "outputs": [
        {
          "output_type": "stream",
          "name": "stdout",
          "text": [
            "Digite o primeiro lado: 3\n",
            "Digite o segundo lado: 3\n",
            "Digite o terceiro lado: 3\n",
            "O triângulo é equilátero (todos os lados iguais)\n"
          ]
        }
      ]
    },
    {
      "cell_type": "code",
      "source": [
        "# 10. Escreva um programa que solicite ao usuário sua idade e exiba uma mensagem informando em qual faixa etária ele se encontra: criança (0-12 anos), adolescente (13-17 anos), adulto (18-59 anos) ou idoso (60 anos ou mais).\n",
        "idade = int(input(\"Digite a sua idade: \"))\n",
        "if idade >= 0 and idade <= 12:\n",
        "  print(\"Sua faixa etária é: criança (0-12 anos)\")\n",
        "elif idade >= 13 and idade <= 17:\n",
        "  print(\"Sua faixa etária é: adolescente (13-17 anos)\")\n",
        "elif idade >= 18 and idade <= 59:\n",
        "  print(\"Sua faixa etária é: adulto (18-59 anos)\")\n",
        "elif idade >= 60:\n",
        "  print(\"Sua faixa etária é: idoso (60 anos ou mais)\")\n",
        "else:\n",
        "  print(\"Erro!! Digite novamente\")"
      ],
      "metadata": {
        "id": "9qWNVbjMUlsR"
      },
      "execution_count": null,
      "outputs": []
    }
  ]
}